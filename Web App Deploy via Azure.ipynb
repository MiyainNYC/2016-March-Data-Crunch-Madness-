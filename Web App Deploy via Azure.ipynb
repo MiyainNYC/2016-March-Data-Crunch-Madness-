{
 "cells": [
  {
   "cell_type": "markdown",
   "metadata": {},
   "source": [
    "# Build and Deploy NCAA Predictive Web App Using Python and Azure\n",
    "\n",
    "\n",
    "\n",
    "---------------------------\n",
    "\n",
    "## Nan(Miya) Wang"
   ]
  },
  {
   "cell_type": "code",
   "execution_count": null,
   "metadata": {
    "collapsed": true
   },
   "outputs": [],
   "source": [
    "import pandas as pd\n",
    "from sklearn.ensemble import RandomForestClassifier\n",
    "from sklearn.utils import shuffle\n",
    "data = pd.read_csv('train.csv',index_col = 'game_id')"
   ]
  },
  {
   "cell_type": "markdown",
   "metadata": {},
   "source": [
    "# load Data into Model"
   ]
  },
  {
   "cell_type": "code",
   "execution_count": null,
   "metadata": {
    "collapsed": true
   },
   "outputs": [],
   "source": [
    "X = data.iloc[:,:-1].values\n",
    "Y = data.iloc[:,-1].values\n",
    "X,Y = shuffle(X,Y,random_state = 0)"
   ]
  },
  {
   "cell_type": "markdown",
   "metadata": {},
   "source": [
    "# Build the RandomForest Classifier Model"
   ]
  },
  {
   "cell_type": "code",
   "execution_count": 3,
   "metadata": {
    "collapsed": false
   },
   "outputs": [
    {
     "data": {
      "text/plain": [
       "RandomForestClassifier(bootstrap=True, class_weight=None, criterion='gini',\n",
       "            max_depth=None, max_features='auto', max_leaf_nodes=None,\n",
       "            min_samples_leaf=1, min_samples_split=2,\n",
       "            min_weight_fraction_leaf=0.0, n_estimators=10, n_jobs=1,\n",
       "            oob_score=False, random_state=None, verbose=0,\n",
       "            warm_start=False)"
      ]
     },
     "execution_count": 3,
     "metadata": {},
     "output_type": "execute_result"
    }
   ],
   "source": [
    "forest_final = RandomForestClassifier()\n",
    "forest_final.fit(X,Y)"
   ]
  },
  {
   "cell_type": "code",
   "execution_count": null,
   "metadata": {
    "collapsed": true
   },
   "outputs": [],
   "source": [
    "data.columns.tolist()"
   ]
  },
  {
   "cell_type": "markdown",
   "metadata": {},
   "source": [
    "# Publish as a Web Service"
   ]
  },
  {
   "cell_type": "code",
   "execution_count": null,
   "metadata": {
    "collapsed": true
   },
   "outputs": [],
   "source": [
    "#Publish as a web service\n",
    "from azureml import services\n",
    "@services.publish('bd165a4ada1c4a5894518128e8043f52', 'b9c30a4a9407447e8a5b43127b6de05a')\n",
    "@services.types(diff_adjde = float,\n",
    "                diff_adjoe = float,\n",
    "                diff_blockpct=float, \n",
    "                diff_distance=float,\n",
    "                diff_fg3pct = float,\n",
    "                diff_oppfg2pct = float, \n",
    "                diff_oppfg3pct = float,\n",
    "                diff_rpi_norm = float,\n",
    "                diff_seed_norm = float)\n",
    "@services.returns(int) \n",
    "def predictNCAA(diff_adjde,\n",
    "                diff_adjoe,\n",
    "                diff_blockpct,\n",
    "                diff_distance,\n",
    "                diff_fg3pct,\n",
    "                diff_oppfg2pct,\n",
    "                diff_oppfg3pct,\n",
    "                diff_rpi_norm, \n",
    "                diff_seed_norm):\n",
    "    \n",
    "    inputArray = [diff_adjde,diff_adjoe,diff_blockpct,diff_distance,diff_fg3pct,\n",
    "                  diff_oppfg2pct,diff_oppfg3pct,diff_rpi_norm, diff_seed_norm]\n",
    "    return forest_final.predict(inputArray)"
   ]
  },
  {
   "cell_type": "markdown",
   "metadata": {},
   "source": [
    "# Call the New Web Service"
   ]
  },
  {
   "cell_type": "code",
   "execution_count": null,
   "metadata": {
    "collapsed": true
   },
   "outputs": [],
   "source": [
    "predictNCAA.service('dce','ccfqe',-0.00975394, -0.12993662,  0.13451874, -0.16578244, -0.20004346,\n",
    "        0.1313634 , -0.01335354,  0.00030701, -0.18     )"
   ]
  },
  {
   "cell_type": "markdown",
   "metadata": {},
   "source": [
    "# Check the Published web service's propertities"
   ]
  },
  {
   "cell_type": "code",
   "execution_count": null,
   "metadata": {
    "collapsed": true
   },
   "outputs": [],
   "source": [
    "dir(predictNCAA)"
   ]
  },
  {
   "cell_type": "markdown",
   "metadata": {},
   "source": [
    "# Get the Help page URL"
   ]
  },
  {
   "cell_type": "code",
   "execution_count": null,
   "metadata": {
    "collapsed": true
   },
   "outputs": [],
   "source": [
    "predictNCAA.service.help_url"
   ]
  },
  {
   "cell_type": "markdown",
   "metadata": {},
   "source": [
    "# Get Post URL of the Published service"
   ]
  },
  {
   "cell_type": "code",
   "execution_count": null,
   "metadata": {
    "collapsed": true
   },
   "outputs": [],
   "source": [
    "predictNCAA.service.url"
   ]
  },
  {
   "cell_type": "markdown",
   "metadata": {},
   "source": [
    "# Get the API key"
   ]
  },
  {
   "cell_type": "code",
   "execution_count": null,
   "metadata": {
    "collapsed": true
   },
   "outputs": [],
   "source": [
    "predictNCAA.service.api_key"
   ]
  }
 ],
 "metadata": {
  "kernelspec": {
   "display_name": "Python 2",
   "language": "python",
   "name": "python2"
  },
  "language_info": {
   "codemirror_mode": {
    "name": "ipython",
    "version": 2
   },
   "file_extension": ".py",
   "mimetype": "text/x-python",
   "name": "python",
   "nbconvert_exporter": "python",
   "pygments_lexer": "ipython2",
   "version": "2.7.10"
  }
 },
 "nbformat": 4,
 "nbformat_minor": 0
}
